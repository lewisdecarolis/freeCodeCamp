{
 "cells": [
  {
   "cell_type": "markdown",
   "id": "c5e35208",
   "metadata": {},
   "source": [
    "# Data Science Tools and Ecosystem \n"
   ]
  },
  {
   "cell_type": "markdown",
   "id": "90bc09ad",
   "metadata": {},
   "source": [
    "Data Science Tools and Ecosystems are summarized in this notebook"
   ]
  },
  {
   "cell_type": "markdown",
   "id": "b4ee5ef6",
   "metadata": {},
   "source": [
    "**Objectives:**\n",
    "\n",
    "- List Popular Languages for Data Science\n",
    "- List Common Open Source Development Environments used by Data Scientists\n",
    "- List Popular Librarires used in Data Science\n",
    "- Introduce simple multiplication and addition expressions\n",
    "- Introduce simple division/conversion expressions\n",
    "\n"
   ]
  },
  {
   "cell_type": "markdown",
   "id": "d93a5e23",
   "metadata": {},
   "source": [
    "## Author\n",
    "Lewis DeCarolis\n"
   ]
  },
  {
   "cell_type": "markdown",
   "id": "a5ec8230",
   "metadata": {},
   "source": [
    "Some of the popular tools Data Scientists use include:\n",
    "1. Python\n",
    "2. R\n",
    "3. SQL"
   ]
  },
  {
   "cell_type": "markdown",
   "id": "fb99fc3d",
   "metadata": {},
   "source": [
    "Some of the commonly used libraries by Data Scientists include:\n",
    "1. Pandas\n",
    "2. Matplotlib\n",
    "3. Caret\n"
   ]
  },
  {
   "cell_type": "markdown",
   "id": "a9a27257",
   "metadata": {},
   "source": [
    "|Data Science Tools|\n",
    "------------------------\n",
    "|Jupyter|\n",
    "|R Studio|\n",
    "|Spyder|"
   ]
  },
  {
   "cell_type": "markdown",
   "id": "8d8e6718",
   "metadata": {},
   "source": [
    "### Below are a few examples of evaluating arithmetic expressions in Python:\n"
   ]
  },
  {
   "cell_type": "code",
   "execution_count": 2,
   "id": "e6658bef",
   "metadata": {},
   "outputs": [
    {
     "data": {
      "text/plain": [
       "17"
      ]
     },
     "execution_count": 2,
     "metadata": {},
     "output_type": "execute_result"
    }
   ],
   "source": [
    "#This a simple arithmetic expression to mutiply then add integers:\n",
    "\n",
    "(3 * 4) + 5"
   ]
  },
  {
   "cell_type": "code",
   "execution_count": 3,
   "id": "32bf2a14",
   "metadata": {},
   "outputs": [
    {
     "data": {
      "text/plain": [
       "3.3333333333333335"
      ]
     },
     "execution_count": 3,
     "metadata": {},
     "output_type": "execute_result"
    }
   ],
   "source": [
    "#This will convert 200 minutes to hours by diving by 60\n",
    "\n",
    "200 / 60"
   ]
  },
  {
   "cell_type": "code",
   "execution_count": null,
   "id": "caccd48d",
   "metadata": {},
   "outputs": [],
   "source": []
  }
 ],
 "metadata": {
  "kernelspec": {
   "display_name": "Python 3",
   "language": "python",
   "name": "python3"
  },
  "language_info": {
   "codemirror_mode": {
    "name": "ipython",
    "version": 3
   },
   "file_extension": ".py",
   "mimetype": "text/x-python",
   "name": "python",
   "nbconvert_exporter": "python",
   "pygments_lexer": "ipython3",
   "version": "3.8.8"
  }
 },
 "nbformat": 4,
 "nbformat_minor": 5
}
